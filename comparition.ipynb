{
 "cells": [
  {
   "cell_type": "code",
   "execution_count": 1,
   "metadata": {
    "collapsed": true
   },
   "outputs": [
    {
     "name": "stdout",
     "output_type": "stream",
     "text": [
      "Looking in indexes: http://pypi.douban.com/simple\r\n",
      "Requirement already satisfied: pyod in /home/eric/miniconda3/envs/pyod/lib/python3.7/site-packages (1.0.6)\r\n",
      "Requirement already satisfied: scipy>=1.5.1 in /home/eric/miniconda3/envs/pyod/lib/python3.7/site-packages (from pyod) (1.7.3)\r\n",
      "Requirement already satisfied: numba>=0.51 in /home/eric/miniconda3/envs/pyod/lib/python3.7/site-packages (from pyod) (0.56.3)\r\n",
      "Requirement already satisfied: joblib in /home/eric/miniconda3/envs/pyod/lib/python3.7/site-packages (from pyod) (1.2.0)\r\n",
      "Requirement already satisfied: matplotlib in /home/eric/miniconda3/envs/pyod/lib/python3.7/site-packages (from pyod) (3.5.3)\r\n",
      "Requirement already satisfied: six in /home/eric/miniconda3/envs/pyod/lib/python3.7/site-packages (from pyod) (1.16.0)\r\n",
      "Requirement already satisfied: statsmodels in /home/eric/miniconda3/envs/pyod/lib/python3.7/site-packages (from pyod) (0.13.2)\r\n",
      "Requirement already satisfied: numpy>=1.19 in /home/eric/miniconda3/envs/pyod/lib/python3.7/site-packages (from pyod) (1.21.6)\r\n",
      "Requirement already satisfied: scikit-learn>=0.20.0 in /home/eric/miniconda3/envs/pyod/lib/python3.7/site-packages (from pyod) (1.0.2)\r\n",
      "Requirement already satisfied: importlib-metadata in /home/eric/miniconda3/envs/pyod/lib/python3.7/site-packages (from numba>=0.51->pyod) (5.0.0)\r\n",
      "Requirement already satisfied: setuptools in /home/eric/miniconda3/envs/pyod/lib/python3.7/site-packages (from numba>=0.51->pyod) (65.5.0)\r\n",
      "Requirement already satisfied: llvmlite<0.40,>=0.39.0dev0 in /home/eric/miniconda3/envs/pyod/lib/python3.7/site-packages (from numba>=0.51->pyod) (0.39.1)\r\n",
      "Requirement already satisfied: threadpoolctl>=2.0.0 in /home/eric/miniconda3/envs/pyod/lib/python3.7/site-packages (from scikit-learn>=0.20.0->pyod) (3.1.0)\r\n",
      "Requirement already satisfied: pillow>=6.2.0 in /home/eric/miniconda3/envs/pyod/lib/python3.7/site-packages (from matplotlib->pyod) (9.3.0)\r\n",
      "Requirement already satisfied: fonttools>=4.22.0 in /home/eric/miniconda3/envs/pyod/lib/python3.7/site-packages (from matplotlib->pyod) (4.38.0)\r\n",
      "Requirement already satisfied: kiwisolver>=1.0.1 in /home/eric/miniconda3/envs/pyod/lib/python3.7/site-packages (from matplotlib->pyod) (1.4.4)\r\n",
      "Requirement already satisfied: pyparsing>=2.2.1 in /home/eric/miniconda3/envs/pyod/lib/python3.7/site-packages (from matplotlib->pyod) (3.0.9)\r\n",
      "Requirement already satisfied: python-dateutil>=2.7 in /home/eric/miniconda3/envs/pyod/lib/python3.7/site-packages (from matplotlib->pyod) (2.8.2)\r\n",
      "Requirement already satisfied: packaging>=20.0 in /home/eric/miniconda3/envs/pyod/lib/python3.7/site-packages (from matplotlib->pyod) (21.3)\r\n",
      "Requirement already satisfied: cycler>=0.10 in /home/eric/miniconda3/envs/pyod/lib/python3.7/site-packages (from matplotlib->pyod) (0.11.0)\r\n",
      "Requirement already satisfied: patsy>=0.5.2 in /home/eric/miniconda3/envs/pyod/lib/python3.7/site-packages (from statsmodels->pyod) (0.5.3)\r\n",
      "Requirement already satisfied: pandas>=0.25 in /home/eric/miniconda3/envs/pyod/lib/python3.7/site-packages (from statsmodels->pyod) (1.3.5)\r\n",
      "Requirement already satisfied: typing-extensions in /home/eric/miniconda3/envs/pyod/lib/python3.7/site-packages (from kiwisolver>=1.0.1->matplotlib->pyod) (4.4.0)\r\n",
      "Requirement already satisfied: pytz>=2017.3 in /home/eric/miniconda3/envs/pyod/lib/python3.7/site-packages (from pandas>=0.25->statsmodels->pyod) (2022.5)\r\n",
      "Requirement already satisfied: zipp>=0.5 in /home/eric/miniconda3/envs/pyod/lib/python3.7/site-packages (from importlib-metadata->numba>=0.51->pyod) (3.10.0)\r\n"
     ]
    }
   ],
   "source": [
    "!pip install pyod"
   ]
  },
  {
   "cell_type": "code",
   "execution_count": null,
   "outputs": [],
   "source": [],
   "metadata": {
    "collapsed": false
   }
  }
 ],
 "metadata": {
  "kernelspec": {
   "display_name": "Python 3",
   "language": "python",
   "name": "python3"
  },
  "language_info": {
   "codemirror_mode": {
    "name": "ipython",
    "version": 2
   },
   "file_extension": ".py",
   "mimetype": "text/x-python",
   "name": "python",
   "nbconvert_exporter": "python",
   "pygments_lexer": "ipython2",
   "version": "2.7.6"
  }
 },
 "nbformat": 4,
 "nbformat_minor": 0
}
